{
  "nbformat": 4,
  "nbformat_minor": 0,
  "metadata": {
    "colab": {
      "provenance": []
    },
    "kernelspec": {
      "name": "python3",
      "display_name": "Python 3"
    },
    "language_info": {
      "name": "python"
    }
  },
  "cells": [
    {
      "cell_type": "code",
      "source": [
        "!pip install nltk"
      ],
      "metadata": {
        "colab": {
          "base_uri": "https://localhost:8080/"
        },
        "id": "39hJG4SIZEs7",
        "outputId": "38b20e5f-5113-478c-b172-7f26adbdcb9d"
      },
      "execution_count": 20,
      "outputs": [
        {
          "output_type": "stream",
          "name": "stdout",
          "text": [
            "Requirement already satisfied: nltk in /usr/local/lib/python3.10/dist-packages (3.8.1)\n",
            "Requirement already satisfied: click in /usr/local/lib/python3.10/dist-packages (from nltk) (8.1.7)\n",
            "Requirement already satisfied: joblib in /usr/local/lib/python3.10/dist-packages (from nltk) (1.3.2)\n",
            "Requirement already satisfied: regex>=2021.8.3 in /usr/local/lib/python3.10/dist-packages (from nltk) (2023.12.25)\n",
            "Requirement already satisfied: tqdm in /usr/local/lib/python3.10/dist-packages (from nltk) (4.66.2)\n"
          ]
        }
      ]
    },
    {
      "cell_type": "code",
      "execution_count": 40,
      "metadata": {
        "colab": {
          "base_uri": "https://localhost:8080/"
        },
        "id": "wtev74W8X8Eh",
        "outputId": "68fd941a-95a2-40e0-a572-9e1a2e15a366"
      },
      "outputs": [
        {
          "output_type": "stream",
          "name": "stderr",
          "text": [
            "[nltk_data] Downloading package punkt to /root/nltk_data...\n",
            "[nltk_data]   Package punkt is already up-to-date!\n",
            "[nltk_data] Downloading package averaged_perceptron_tagger to\n",
            "[nltk_data]     /root/nltk_data...\n",
            "[nltk_data]   Package averaged_perceptron_tagger is already up-to-\n",
            "[nltk_data]       date!\n",
            "[nltk_data] Downloading package stopwords to /root/nltk_data...\n",
            "[nltk_data]   Package stopwords is already up-to-date!\n"
          ]
        }
      ],
      "source": [
        "import json\n",
        "import nltk\n",
        "from nltk.corpus import stopwords\n",
        "from nltk.tokenize import word_tokenize\n",
        "from nltk import pos_tag\n",
        "from nltk.probability import FreqDist\n",
        "nltk.download('punkt')\n",
        "nltk.download('averaged_perceptron_tagger')\n",
        "nltk.download('stopwords')\n",
        "\n",
        "def extract_themes_from_review(review_text):\n",
        "    stop_words = set(stopwords.words('english'))\n",
        "    words = word_tokenize(review_text)\n",
        "    filtered_words = [word.lower() for word in words if word.lower() not in stop_words and word.isalpha()]\n",
        "    tagged_words = pos_tag(filtered_words)\n",
        "    relevant_words = [word for word, tag in tagged_words if tag.startswith(('NN', 'JJ'))]\n",
        "    freq_dist = FreqDist(relevant_words)\n",
        "    most_common_words = freq_dist.most_common(5)\n",
        "    themes = [word for word, freq in most_common_words]\n",
        "    return themes"
      ]
    },
    {
      "cell_type": "code",
      "source": [
        "from tqdm import tqdm\n",
        "with open('short_dataset.json') as file:\n",
        "    data = json.load(file)\n",
        "    titles = data['titles']\n",
        "    reviews = data['reviews']\n",
        "album_themes_map = {}\n",
        "for title, review in tqdm(zip(titles, reviews), total=len(titles), desc=\"Processing\"):\n",
        "    themes = extract_themes_from_review(review)\n",
        "    album_themes_map[title] = themes\n"
      ],
      "metadata": {
        "colab": {
          "base_uri": "https://localhost:8080/"
        },
        "id": "iceGwy6yeDas",
        "outputId": "442739ae-1678-4db9-e163-9f7dc454cbe3"
      },
      "execution_count": 44,
      "outputs": [
        {
          "output_type": "stream",
          "name": "stderr",
          "text": [
            "Processing: 100%|██████████| 47720/47720 [01:14<00:00, 636.33it/s]\n"
          ]
        }
      ]
    },
    {
      "cell_type": "code",
      "source": [
        "for album, themes in list(album_themes_map.items())[:5]:\n",
        "    print(f\"Album: {album}, Themes: {themes}\")"
      ],
      "metadata": {
        "colab": {
          "base_uri": "https://localhost:8080/"
        },
        "id": "KopggQuHh6si",
        "outputId": "1b055e8c-7279-49af-f67c-9ebcd53364ee"
      },
      "execution_count": 52,
      "outputs": [
        {
          "output_type": "stream",
          "name": "stdout",
          "text": [
            "Album: michael spyres in the shadows, Themes: ['unexpected', 'got', 'fact', 'michael', 'albums']\n",
            "Album: js bach st matthew passion arr mendelssohn, Themes: ['story', 'mendelssohn', 'unknown', 'st', 'matthew']\n",
            "Album: mendelssohn lieder ohne worte michael barenboim, Themes: ['hackles', 'idea', 'mendelssohn', 'songs', 'words']\n",
            "Album: strauss ein heldenleben mahler ruckert lieder payare, Themes: ['unlikely', 'programme', 'kicks', 'orchestral', 'work']\n",
            "Album: karchin keyboards winds, Themes: ['gt', 'earthlings', 'pandemic', 'louis', 'karchin']\n"
          ]
        }
      ]
    },
    {
      "cell_type": "code",
      "source": [
        "def jaccard_similarity(set1, set2):\n",
        "    intersection = len(set(set1).intersection(set2))\n",
        "    union = len(set(set1).union(set2))\n",
        "    return intersection / union if union != 0 else 0\n",
        "\n",
        "def find_most_relevant_albums(input_album, album_themes_map, top_n=10):\n",
        "    if input_album not in album_themes_map:\n",
        "        print(f\"Album '{input_album}' not found.\")\n",
        "        return []\n",
        "    input_themes = album_themes_map[input_album]\n",
        "    similarity_scores = []\n",
        "    for album, themes in album_themes_map.items():\n",
        "        if album == input_album:\n",
        "            continue\n",
        "        score = jaccard_similarity(input_themes, themes)\n",
        "        similarity_scores.append((album, score))\n",
        "    sorted_albums = sorted(similarity_scores, key=lambda x: x[1], reverse=True)\n",
        "    return sorted_albums[:top_n]\n"
      ],
      "metadata": {
        "id": "4g1bvOQgbXF0"
      },
      "execution_count": 45,
      "outputs": []
    },
    {
      "cell_type": "code",
      "source": [
        "input_album = \"michael spyres in the shadows\"\n",
        "relevant_albums = find_most_relevant_albums(input_album, album_themes_map, 10)\n",
        "for album, score in relevant_albums:\n",
        "    print(f\"Album: {album}, Similarity Score: {score}\")"
      ],
      "metadata": {
        "colab": {
          "base_uri": "https://localhost:8080/"
        },
        "id": "vqXipj3kcC6y",
        "outputId": "59670c59-b416-4c86-b567-4179fc8538ed"
      },
      "execution_count": 49,
      "outputs": [
        {
          "output_type": "stream",
          "name": "stdout",
          "text": [
            "Album: organ recital 2, Similarity Score: 0.25\n",
            "Album: bach keyboard concertos vol 2, Similarity Score: 0.2\n",
            "Album: v kingur lafsson from afar, Similarity Score: 0.16666666666666666\n",
            "Album: brahms mendelssohn string quartets, Similarity Score: 0.14285714285714285\n",
            "Album: bach bartók boulez works for solo violin, Similarity Score: 0.14285714285714285\n",
            "Album: michael haydn string quintets, Similarity Score: 0.14285714285714285\n",
            "Album: bartók duke bluebeards castle 8, Similarity Score: 0.14285714285714285\n",
            "Album: dixit dominus, Similarity Score: 0.14285714285714285\n",
            "Album: rachmaninov nocturne vespers byzantine hymns, Similarity Score: 0.14285714285714285\n",
            "Album: enescu violin sonatas 0, Similarity Score: 0.14285714285714285\n"
          ]
        }
      ]
    }
  ]
}